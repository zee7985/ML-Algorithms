{
 "cells": [
  {
   "cell_type": "code",
   "execution_count": 1,
   "metadata": {
    "colab": {},
    "colab_type": "code",
    "id": "fYP-8_MXGN6V"
   },
   "outputs": [],
   "source": [
    "import numpy as np\n",
    "import matplotlib.pyplot as plt"
   ]
  },
  {
   "cell_type": "code",
   "execution_count": 2,
   "metadata": {
    "colab": {},
    "colab_type": "code",
    "id": "vGBmC3-MISkN"
   },
   "outputs": [],
   "source": [
    "Physics_std = 5\n",
    "Physics_mean = 80\n",
    "Physics = np.round(np.random.randn(500)*Physics_std + Physics_mean)\n",
    "\n",
    "Maths = np.round(np.random.randn(500)*10 + 40)\n",
    "\n"
   ]
  },
  {
   "cell_type": "code",
   "execution_count": 3,
   "metadata": {
    "colab": {
     "base_uri": "https://localhost:8080/",
     "height": 1000
    },
    "colab_type": "code",
    "id": "YjcnWfSuI6b3",
    "outputId": "d0c94ccd-4e9e-4396-ae09-e4a7db3f1791"
   },
   "outputs": [
    {
     "name": "stdout",
     "output_type": "stream",
     "text": [
      "[85. 78. 83. 86. 76. 75. 83. 74. 86. 78. 80. 83. 76. 75. 74. 82. 75. 80.\n",
      " 81. 92. 81. 82. 75. 87. 76. 80. 79. 72. 79. 87. 80. 81. 79. 81. 84. 79.\n",
      " 72. 85. 86. 75. 76. 81. 81. 77. 79. 78. 81. 79. 79. 70. 80. 81. 82. 81.\n",
      " 85. 81. 82. 84. 76. 77. 80. 81. 76. 81. 77. 77. 78. 87. 82. 78. 74. 79.\n",
      " 81. 83. 74. 85. 91. 86. 79. 72. 77. 81. 75. 79. 71. 83. 97. 91. 83. 71.\n",
      " 83. 81. 84. 77. 80. 83. 81. 87. 83. 73. 79. 85. 95. 85. 73. 89. 85. 74.\n",
      " 76. 78. 78. 82. 76. 89. 73. 75. 76. 81. 82. 76. 83. 78. 75. 83. 83. 83.\n",
      " 78. 75. 83. 80. 76. 87. 81. 79. 84. 86. 78. 76. 79. 74. 85. 71. 73. 70.\n",
      " 78. 74. 82. 86. 71. 80. 85. 91. 83. 83. 76. 76. 80. 85. 73. 80. 76. 81.\n",
      " 78. 79. 81. 81. 75. 80. 82. 77. 78. 77. 78. 77. 76. 87. 80. 76. 82. 79.\n",
      " 76. 79. 73. 78. 79. 83. 86. 74. 79. 80. 81. 81. 79. 83. 83. 80. 81. 76.\n",
      " 81. 76. 78. 69. 79. 80. 85. 78. 76. 84. 80. 77. 78. 76. 76. 81. 84. 80.\n",
      " 80. 73. 73. 75. 76. 78. 80. 88. 78. 73. 78. 77. 82. 76. 71. 85. 81. 77.\n",
      " 69. 85. 88. 90. 74. 82. 80. 75. 74. 83. 80. 81. 84. 86. 81. 76. 89. 80.\n",
      " 80. 81. 78. 80. 82. 78. 78. 76. 82. 78. 82. 79. 74. 76. 72. 79. 83. 75.\n",
      " 81. 73. 74. 66. 81. 71. 78. 77. 70. 76. 79. 81. 79. 72. 85. 79. 81. 77.\n",
      " 76. 87. 84. 77. 79. 83. 82. 75. 75. 77. 69. 78. 85. 76. 78. 78. 78. 79.\n",
      " 93. 79. 72. 76. 78. 75. 79. 78. 89. 75. 83. 72. 79. 85. 81. 82. 81. 82.\n",
      " 75. 73. 82. 83. 82. 79. 85. 85. 80. 85. 79. 83. 76. 76. 80. 85. 81. 83.\n",
      " 79. 73. 75. 83. 84. 86. 82. 87. 76. 84. 84. 74. 85. 83. 74. 83. 82. 83.\n",
      " 88. 75. 82. 79. 76. 83. 82. 83. 76. 76. 78. 82. 77. 90. 85. 79. 85. 82.\n",
      " 85. 86. 81. 81. 76. 75. 81. 85. 81. 78. 82. 82. 76. 78. 78. 83. 88. 82.\n",
      " 85. 78. 78. 78. 82. 79. 91. 71. 76. 85. 87. 81. 86. 78. 79. 86. 84. 73.\n",
      " 79. 72. 77. 85. 85. 89. 77. 85. 76. 88. 69. 79. 77. 79. 72. 92. 83. 75.\n",
      " 76. 73. 91. 77. 81. 82. 76. 77. 82. 82. 75. 79. 85. 79. 79. 86. 82. 84.\n",
      " 78. 85. 86. 86. 77. 73. 80. 75. 78. 80. 68. 85. 74. 81. 78. 86. 89. 77.\n",
      " 91. 74. 85. 83. 76. 78. 85. 86. 79. 92. 89. 77. 67. 76. 79. 83. 86. 78.\n",
      " 77. 82. 77. 75. 76. 81. 76. 80. 80. 69. 81. 89. 78. 77.]\n",
      "[49. 35. 27. 54. 37. 43. 25. 55. 35. 38. 21. 40. 43. 41. 38. 36. 39. 24.\n",
      " 30. 42. 57. 24. 42. 34. 30. 35. 37. 43. 29. 52. 23. 56. 37. 34. 22. 37.\n",
      " 46. 29. 35. 36. 33. 25. 33. 43. 44. 31. 25. 26. 31. 40. 44. 34. 32. 49.\n",
      " 29. 49. 39. 35. 21. 37. 46. 41. 36. 30. 40. 30. 33. 43. 24. 40. 32. 34.\n",
      " 32. 54. 52. 41. 37. 39. 36. 38. 33. 28. 32. 39. 31. 48. 46. 45. 48. 43.\n",
      " 36. 46. 32. 37. 13. 24. 51. 56. 58. 42. 40. 33. 33. 59. 24. 32. 45. 31.\n",
      " 35. 28. 45. 32. 25. 53. 24. 46. 26. 50. 47. 60. 44. 60. 17. 48. 50. 48.\n",
      " 36. 31. 36. 23. 51. 35. 37. 38. 39. 46. 25. 32. 44. 31. 32. 48. 29. 41.\n",
      " 60. 41. 37. 36. 58. 46. 15. 32. 28. 62. 26. 52. 31. 40. 44. 39. 34. 24.\n",
      " 59. 49. 40. 18. 39. 50. 51. 25. 57. 37. 42. 31. 33. 36. 33. 44. 32. 54.\n",
      " 43. 53. 25. 45. 27. 35. 47. 42. 23. 33. 44. 34. 43. 52. 40. 44. 33. 38.\n",
      " 40. 34. 12. 43. 15. 34. 50. 45. 40. 36. 30. 37. 39. 20. 42. 39. 44. 34.\n",
      " 35. 14. 40. 43. 42. 41. 31. 47. 35. 50. 63. 16. 36. 64. 34. 38. 47. 26.\n",
      " 56. 32. 38. 36. 17. 39. 43. 59. 48. 50. 40. 52. 41. 43. 46. 37. 47. 39.\n",
      " 40. 52. 35. 25. 44. 42. 54. 38. 34. 38. 28. 42. 47. 28. 54. 41. 26. 50.\n",
      " 26. 47. 31. 43. 23. 42. 38. 31. 47. 42. 37. 28. 35. 43. 37. 28. 41. 33.\n",
      " 41. 59. 39. 38. 54. 49. 49. 43. 28. 41. 39. 41. 32. 35. 49. 43. 40. 57.\n",
      " 24. 49. 41. 55. 40. 39. 30. 31. 31. 59. 28. 34. 61. 32. 40. 42. 42. 16.\n",
      " 56. 10. 47. 27. 51. 36. 33. 45. 42. 49. 37. 61. 39. 31. 35. 48. 42. 42.\n",
      " 30. 39. 44. 46. 36. 31. 53. 39. 40. 45. 49. 54. 47. 62. 56. 35. 31. 38.\n",
      " 36. 43. 40. 61. 37. 19. 31. 56. 44. 48. 51. 45. 53. 41. 36. 50. 28. 31.\n",
      " 49. 50. 37. 40. 35. 48. 51. 44. 38. 43. 32. 52. 39. 34. 46. 48. 41. 32.\n",
      " 55. 41. 37. 37. 48. 42. 48. 38. 45. 53. 45. 36. 34. 35. 30. 44. 39. 40.\n",
      " 46. 21. 26. 35. 34. 33. 16. 45. 20. 44. 26. 44. 37. 54. 33. 47. 37. 40.\n",
      " 33. 31. 42. 33. 40. 32. 24. 47. 46. 44. 32. 32. 51. 47. 32. 39. 45. 52.\n",
      " 46. 44. 57. 50. 47. 47. 58. 42. 37. 45. 33. 48. 45. 49. 45. 42. 35. 46.\n",
      " 35. 43. 25. 42. 26. 52. 31. 35. 47. 49. 42. 40. 22. 50. 40. 43. 27. 25.\n",
      " 39. 17. 40. 44. 33. 44. 22. 29. 33. 33. 33. 25. 36. 64.]\n"
     ]
    }
   ],
   "source": [
    "print(Physics)\n",
    "print(Maths)"
   ]
  },
  {
   "cell_type": "code",
   "execution_count": 6,
   "metadata": {
    "colab": {
     "base_uri": "https://localhost:8080/",
     "height": 269
    },
    "colab_type": "code",
    "id": "-ytp2cU-I7i0",
    "outputId": "c38c21c8-f4ea-4a04-c7af-38bd9fbbdf27"
   },
   "outputs": [
    {
     "data": {
      "image/png": "[encoded data removed]",
      "text/plain": [
       "<Figure size 432x288 with 1 Axes>"
      ]
     },
     "metadata": {
      "needs_background": "light"
     },
     "output_type": "display_data"
    }
   ],
   "source": [
    "plt.hist(Physics)\n",
    "plt.hist(Maths,alpha=0.7)\n",
    "plt.show()"
   ]
  }
 ],
 "metadata": {
  "accelerator": "TPU",
  "colab": {
   "name": "Learning Prob Distribution",
   "provenance": [],
   "version": "0.3.2"
  },
  "kernelspec": {
   "display_name": "Python 3",
   "language": "python",
   "name": "python3"
  },
  "language_info": {
   "codemirror_mode": {
    "name": "ipython",
    "version": 3
   },
   "file_extension": ".py",
   "mimetype": "text/x-python",
   "name": "python",
   "nbconvert_exporter": "python",
   "pygments_lexer": "ipython3",
   "version": "3.7.3"
  }
 },
 "nbformat": 4,
 "nbformat_minor": 1
}
