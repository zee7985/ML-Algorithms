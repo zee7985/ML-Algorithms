{
 "cells": [
  {
   "cell_type": "markdown",
   "metadata": {
    "colab_type": "text",
    "id": "s_BcZx_TAgaI"
   },
   "source": [
    "### Classifying Movie Reviews\n",
    "\n",
    "Binary Classification on IMDB Dataset\n",
    "\n",
    "Inputs : 50,000 Reviews\n",
    "\n",
    "Output : Positive and Negative\n"
   ]
  },
  {
   "cell_type": "code",
   "execution_count": 1,
   "metadata": {
    "colab": {
     "base_uri": "https://localhost:8080/",
     "height": 36
    },
    "colab_type": "code",
    "id": "9zJKop_SAkJo",
    "outputId": "e69d4349-32c9-412d-f6fa-ef3c94c38296"
   },
   "outputs": [
    {
     "name": "stderr",
     "output_type": "stream",
     "text": [
      "Using TensorFlow backend.\n",
      "c:\\users\\zeesh\\anaconda3\\envs\\tensorflow_cpu\\lib\\site-packages\\tensorflow\\python\\framework\\dtypes.py:516: FutureWarning: Passing (type, 1) or '1type' as a synonym of type is deprecated; in a future version of numpy, it will be understood as (type, (1,)) / '(1,)type'.\n",
      "  _np_qint8 = np.dtype([(\"qint8\", np.int8, 1)])\n",
      "c:\\users\\zeesh\\anaconda3\\envs\\tensorflow_cpu\\lib\\site-packages\\tensorflow\\python\\framework\\dtypes.py:517: FutureWarning: Passing (type, 1) or '1type' as a synonym of type is deprecated; in a future version of numpy, it will be understood as (type, (1,)) / '(1,)type'.\n",
      "  _np_quint8 = np.dtype([(\"quint8\", np.uint8, 1)])\n",
      "c:\\users\\zeesh\\anaconda3\\envs\\tensorflow_cpu\\lib\\site-packages\\tensorflow\\python\\framework\\dtypes.py:518: FutureWarning: Passing (type, 1) or '1type' as a synonym of type is deprecated; in a future version of numpy, it will be understood as (type, (1,)) / '(1,)type'.\n",
      "  _np_qint16 = np.dtype([(\"qint16\", np.int16, 1)])\n",
      "c:\\users\\zeesh\\anaconda3\\envs\\tensorflow_cpu\\lib\\site-packages\\tensorflow\\python\\framework\\dtypes.py:519: FutureWarning: Passing (type, 1) or '1type' as a synonym of type is deprecated; in a future version of numpy, it will be understood as (type, (1,)) / '(1,)type'.\n",
      "  _np_quint16 = np.dtype([(\"quint16\", np.uint16, 1)])\n",
      "c:\\users\\zeesh\\anaconda3\\envs\\tensorflow_cpu\\lib\\site-packages\\tensorflow\\python\\framework\\dtypes.py:520: FutureWarning: Passing (type, 1) or '1type' as a synonym of type is deprecated; in a future version of numpy, it will be understood as (type, (1,)) / '(1,)type'.\n",
      "  _np_qint32 = np.dtype([(\"qint32\", np.int32, 1)])\n",
      "c:\\users\\zeesh\\anaconda3\\envs\\tensorflow_cpu\\lib\\site-packages\\tensorflow\\python\\framework\\dtypes.py:525: FutureWarning: Passing (type, 1) or '1type' as a synonym of type is deprecated; in a future version of numpy, it will be understood as (type, (1,)) / '(1,)type'.\n",
      "  np_resource = np.dtype([(\"resource\", np.ubyte, 1)])\n",
      "c:\\users\\zeesh\\anaconda3\\envs\\tensorflow_cpu\\lib\\site-packages\\tensorboard\\compat\\tensorflow_stub\\dtypes.py:541: FutureWarning: Passing (type, 1) or '1type' as a synonym of type is deprecated; in a future version of numpy, it will be understood as (type, (1,)) / '(1,)type'.\n",
      "  _np_qint8 = np.dtype([(\"qint8\", np.int8, 1)])\n",
      "c:\\users\\zeesh\\anaconda3\\envs\\tensorflow_cpu\\lib\\site-packages\\tensorboard\\compat\\tensorflow_stub\\dtypes.py:542: FutureWarning: Passing (type, 1) or '1type' as a synonym of type is deprecated; in a future version of numpy, it will be understood as (type, (1,)) / '(1,)type'.\n",
      "  _np_quint8 = np.dtype([(\"quint8\", np.uint8, 1)])\n",
      "c:\\users\\zeesh\\anaconda3\\envs\\tensorflow_cpu\\lib\\site-packages\\tensorboard\\compat\\tensorflow_stub\\dtypes.py:543: FutureWarning: Passing (type, 1) or '1type' as a synonym of type is deprecated; in a future version of numpy, it will be understood as (type, (1,)) / '(1,)type'.\n",
      "  _np_qint16 = np.dtype([(\"qint16\", np.int16, 1)])\n",
      "c:\\users\\zeesh\\anaconda3\\envs\\tensorflow_cpu\\lib\\site-packages\\tensorboard\\compat\\tensorflow_stub\\dtypes.py:544: FutureWarning: Passing (type, 1) or '1type' as a synonym of type is deprecated; in a future version of numpy, it will be understood as (type, (1,)) / '(1,)type'.\n",
      "  _np_quint16 = np.dtype([(\"quint16\", np.uint16, 1)])\n",
      "c:\\users\\zeesh\\anaconda3\\envs\\tensorflow_cpu\\lib\\site-packages\\tensorboard\\compat\\tensorflow_stub\\dtypes.py:545: FutureWarning: Passing (type, 1) or '1type' as a synonym of type is deprecated; in a future version of numpy, it will be understood as (type, (1,)) / '(1,)type'.\n",
      "  _np_qint32 = np.dtype([(\"qint32\", np.int32, 1)])\n",
      "c:\\users\\zeesh\\anaconda3\\envs\\tensorflow_cpu\\lib\\site-packages\\tensorboard\\compat\\tensorflow_stub\\dtypes.py:550: FutureWarning: Passing (type, 1) or '1type' as a synonym of type is deprecated; in a future version of numpy, it will be understood as (type, (1,)) / '(1,)type'.\n",
      "  np_resource = np.dtype([(\"resource\", np.ubyte, 1)])\n"
     ]
    }
   ],
   "source": [
    "from keras.datasets import imdb"
   ]
  },
  {
   "cell_type": "markdown",
   "metadata": {
    "colab_type": "text",
    "id": "UtYr4LPFBAJ4"
   },
   "source": [
    "## Data Preparation"
   ]
  },
  {
   "cell_type": "code",
   "execution_count": 5,
   "metadata": {
    "colab": {
     "base_uri": "https://localhost:8080/",
     "height": 54
    },
    "colab_type": "code",
    "id": "yIa7fWCoA8if",
    "outputId": "c01bcf4c-73a6-41d3-bac6-7a454793c18d"
   },
   "outputs": [],
   "source": [
    "#((XT,YT),(Xt,Yt)) = imdb.load_data(num_words=10000,allow_pickle = True)\n",
    "\n",
    "import numpy as np\n",
    "# save np.load\n",
    "np_load_old = np.load\n",
    "\n",
    "# modify the default parameters of np.load\n",
    "np.load = lambda *a,**k: np_load_old(*a, allow_pickle=True, **k)\n",
    "\n",
    "# call load_data with allow_pickle implicitly set to true\n",
    "((XT,YT),(Xt,Yt)) = imdb.load_data(num_words=10000)\n",
    "\n",
    "# restore np.load for future normal usage\n",
    "np.load = np_load_old"
   ]
  },
  {
   "cell_type": "code",
   "execution_count": 6,
   "metadata": {
    "colab": {
     "base_uri": "https://localhost:8080/",
     "height": 36
    },
    "colab_type": "code",
    "id": "tk0VtK5DBB9M",
    "outputId": "2b574a97-f759-4a77-a4e8-75e4decd2411"
   },
   "outputs": [
    {
     "data": {
      "text/plain": [
       "25000"
      ]
     },
     "execution_count": 6,
     "metadata": {},
     "output_type": "execute_result"
    }
   ],
   "source": [
    "len(XT)\n"
   ]
  },
  {
   "cell_type": "code",
   "execution_count": 7,
   "metadata": {
    "colab": {
     "base_uri": "https://localhost:8080/",
     "height": 36
    },
    "colab_type": "code",
    "id": "jXp12MAKBN3-",
    "outputId": "f6ce56fc-68fd-422d-9511-65f9d9f985bb"
   },
   "outputs": [
    {
     "data": {
      "text/plain": [
       "25000"
      ]
     },
     "execution_count": 7,
     "metadata": {},
     "output_type": "execute_result"
    }
   ],
   "source": [
    "len(Xt)"
   ]
  },
  {
   "cell_type": "code",
   "execution_count": 8,
   "metadata": {
    "colab": {
     "base_uri": "https://localhost:8080/",
     "height": 56
    },
    "colab_type": "code",
    "id": "lMvZ7c-zBQtu",
    "outputId": "9cc26467-4bd7-445f-9cff-78e8df94a4fb"
   },
   "outputs": [
    {
     "name": "stdout",
     "output_type": "stream",
     "text": [
      "[1, 14, 22, 16, 43, 530, 973, 1622, 1385, 65, 458, 4468, 66, 3941, 4, 173, 36, 256, 5, 25, 100, 43, 838, 112, 50, 670, 2, 9, 35, 480, 284, 5, 150, 4, 172, 112, 167, 2, 336, 385, 39, 4, 172, 4536, 1111, 17, 546, 38, 13, 447, 4, 192, 50, 16, 6, 147, 2025, 19, 14, 22, 4, 1920, 4613, 469, 4, 22, 71, 87, 12, 16, 43, 530, 38, 76, 15, 13, 1247, 4, 22, 17, 515, 17, 12, 16, 626, 18, 2, 5, 62, 386, 12, 8, 316, 8, 106, 5, 4, 2223, 5244, 16, 480, 66, 3785, 33, 4, 130, 12, 16, 38, 619, 5, 25, 124, 51, 36, 135, 48, 25, 1415, 33, 6, 22, 12, 215, 28, 77, 52, 5, 14, 407, 16, 82, 2, 8, 4, 107, 117, 5952, 15, 256, 4, 2, 7, 3766, 5, 723, 36, 71, 43, 530, 476, 26, 400, 317, 46, 7, 4, 2, 1029, 13, 104, 88, 4, 381, 15, 297, 98, 32, 2071, 56, 26, 141, 6, 194, 7486, 18, 4, 226, 22, 21, 134, 476, 26, 480, 5, 144, 30, 5535, 18, 51, 36, 28, 224, 92, 25, 104, 4, 226, 65, 16, 38, 1334, 88, 12, 16, 283, 5, 16, 4472, 113, 103, 32, 15, 16, 5345, 19, 178, 32]\n"
     ]
    }
   ],
   "source": [
    "#print(XT[0])"
   ]
  },
  {
   "cell_type": "code",
   "execution_count": 9,
   "metadata": {
    "colab": {
     "base_uri": "https://localhost:8080/",
     "height": 54
    },
    "colab_type": "code",
    "id": "s2jP5etoBTVE",
    "outputId": "9223b87b-af88-4f9f-d253-80845512bfb7"
   },
   "outputs": [],
   "source": [
    "word_idx = imdb.get_word_index()"
   ]
  },
  {
   "cell_type": "code",
   "execution_count": 10,
   "metadata": {
    "colab": {
     "base_uri": "https://localhost:8080/",
     "height": 56
    },
    "colab_type": "code",
    "id": "vp7-4CazBqgd",
    "outputId": "11bc3ffc-e103-4520-c4c9-158b6eb80765"
   },
   "outputs": [],
   "source": [
    "#print(word_idx.items())"
   ]
  },
  {
   "cell_type": "code",
   "execution_count": 11,
   "metadata": {
    "colab": {},
    "colab_type": "code",
    "id": "Drkgus5aBsI3"
   },
   "outputs": [],
   "source": [
    "idx_word = dict([value,key] for (key,value) in word_idx.items())"
   ]
  },
  {
   "cell_type": "code",
   "execution_count": 13,
   "metadata": {
    "colab": {
     "base_uri": "https://localhost:8080/",
     "height": 56
    },
    "colab_type": "code",
    "id": "-hdDLJ3LB5ap",
    "outputId": "e793a891-e8c1-41fe-a173-edbcc6f2c4d8"
   },
   "outputs": [],
   "source": [
    "#print(idx_word.items())"
   ]
  },
  {
   "cell_type": "code",
   "execution_count": 14,
   "metadata": {
    "colab": {},
    "colab_type": "code",
    "id": "H3O6k5u5B9MR"
   },
   "outputs": [],
   "source": [
    "actual_review = ' '.join([idx_word.get(idx-3,'?') for idx in XT[0]])"
   ]
  },
  {
   "cell_type": "code",
   "execution_count": 16,
   "metadata": {
    "colab": {
     "base_uri": "https://localhost:8080/",
     "height": 56
    },
    "colab_type": "code",
    "id": "AMSQBXv7CeBU",
    "outputId": "bec067dd-2b59-4a7d-ff72-024c0ec1327f"
   },
   "outputs": [],
   "source": [
    "#print(actual_review)"
   ]
  },
  {
   "cell_type": "code",
   "execution_count": 17,
   "metadata": {
    "colab": {},
    "colab_type": "code",
    "id": "LsrXHKESCkoh"
   },
   "outputs": [],
   "source": [
    "## Next Step - Vectorize the Data\n",
    "## Vocab Size - 10,000 We will make sure every sentence is represented by a vector of len 10000 [00000111.....00101010]\n",
    "import numpy as np\n",
    "def vectorize_sentences(sentences,dim=10000):\n",
    "  \n",
    "  outputs = np.zeros((len(sentences),dim))\n",
    "  \n",
    "  for i,idx in enumerate(sentences):\n",
    "    outputs[i,idx] = 1\n",
    "   \n",
    "  return outputs\n",
    "    \n",
    "  "
   ]
  },
  {
   "cell_type": "code",
   "execution_count": 18,
   "metadata": {
    "colab": {},
    "colab_type": "code",
    "id": "afnq9B_fDkzF"
   },
   "outputs": [],
   "source": [
    "X_train = vectorize_sentences(XT)\n",
    "X_test = vectorize_sentences(Xt)"
   ]
  },
  {
   "cell_type": "code",
   "execution_count": 19,
   "metadata": {
    "colab": {
     "base_uri": "https://localhost:8080/",
     "height": 54
    },
    "colab_type": "code",
    "id": "3sRrtPPSDrxj",
    "outputId": "b9e57c96-d01a-45e1-def9-13b653ea80fa"
   },
   "outputs": [
    {
     "name": "stdout",
     "output_type": "stream",
     "text": [
      "(25000, 10000)\n",
      "(25000, 10000)\n"
     ]
    }
   ],
   "source": [
    "print(X_train.shape)\n",
    "print(X_test.shape)"
   ]
  },
  {
   "cell_type": "code",
   "execution_count": 20,
   "metadata": {
    "colab": {
     "base_uri": "https://localhost:8080/",
     "height": 36
    },
    "colab_type": "code",
    "id": "dCyfeJbtDyj4",
    "outputId": "86e56e36-722b-4adf-86a6-bee0c5edb6df"
   },
   "outputs": [
    {
     "name": "stdout",
     "output_type": "stream",
     "text": [
      "[0. 1. 1. ... 0. 0. 0.]\n"
     ]
    }
   ],
   "source": [
    "print(X_train[0])"
   ]
  },
  {
   "cell_type": "code",
   "execution_count": 21,
   "metadata": {
    "colab": {},
    "colab_type": "code",
    "id": "5NONZEa6D2Cr"
   },
   "outputs": [],
   "source": [
    "Y_train = np.asarray(YT).astype('float32')\n",
    "Y_test = np.asarray(Yt).astype('float32')"
   ]
  },
  {
   "cell_type": "markdown",
   "metadata": {
    "colab_type": "text",
    "id": "VfFvrqJrFkjJ"
   },
   "source": [
    "### Define Your Model Architecture\n",
    "\n",
    "- Use Fully Connected/Dense Layers with RelU Activation   \n",
    "- 2 Hidden Layers with 16 units each  \n",
    "- 1 Output Layer with 1 unit (Sigmoid Activation)"
   ]
  },
  {
   "cell_type": "code",
   "execution_count": 22,
   "metadata": {
    "colab": {},
    "colab_type": "code",
    "id": "5i6YJhYVEZfv"
   },
   "outputs": [],
   "source": [
    "from keras import models\n",
    "from keras.layers import Dense\n"
   ]
  },
  {
   "cell_type": "code",
   "execution_count": 23,
   "metadata": {
    "colab": {},
    "colab_type": "code",
    "id": "b4lo4Ih2EaDs"
   },
   "outputs": [
    {
     "name": "stderr",
     "output_type": "stream",
     "text": [
      "WARNING: Logging before flag parsing goes to stderr.\n",
      "W0321 19:55:27.065819 17168 deprecation_wrapper.py:119] From c:\\users\\zeesh\\anaconda3\\envs\\tensorflow_cpu\\lib\\site-packages\\keras\\backend\\tensorflow_backend.py:74: The name tf.get_default_graph is deprecated. Please use tf.compat.v1.get_default_graph instead.\n",
      "\n",
      "W0321 19:55:27.871645 17168 deprecation_wrapper.py:119] From c:\\users\\zeesh\\anaconda3\\envs\\tensorflow_cpu\\lib\\site-packages\\keras\\backend\\tensorflow_backend.py:517: The name tf.placeholder is deprecated. Please use tf.compat.v1.placeholder instead.\n",
      "\n",
      "W0321 19:55:28.024155 17168 deprecation_wrapper.py:119] From c:\\users\\zeesh\\anaconda3\\envs\\tensorflow_cpu\\lib\\site-packages\\keras\\backend\\tensorflow_backend.py:4138: The name tf.random_uniform is deprecated. Please use tf.random.uniform instead.\n",
      "\n"
     ]
    }
   ],
   "source": [
    "# Define the model\n",
    "model = models.Sequential()\n",
    "model.add(Dense(16,activation='relu',input_shape=(10000,)))\n",
    "model.add(Dense(16,activation='relu'))\n",
    "model.add(Dense(1,activation='sigmoid'))\n"
   ]
  },
  {
   "cell_type": "code",
   "execution_count": 24,
   "metadata": {
    "colab": {},
    "colab_type": "code",
    "id": "caIssKfjEaCD"
   },
   "outputs": [
    {
     "name": "stderr",
     "output_type": "stream",
     "text": [
      "W0321 19:55:31.084422 17168 deprecation_wrapper.py:119] From c:\\users\\zeesh\\anaconda3\\envs\\tensorflow_cpu\\lib\\site-packages\\keras\\optimizers.py:790: The name tf.train.Optimizer is deprecated. Please use tf.compat.v1.train.Optimizer instead.\n",
      "\n",
      "W0321 19:55:31.132425 17168 deprecation_wrapper.py:119] From c:\\users\\zeesh\\anaconda3\\envs\\tensorflow_cpu\\lib\\site-packages\\keras\\backend\\tensorflow_backend.py:3376: The name tf.log is deprecated. Please use tf.math.log instead.\n",
      "\n",
      "W0321 19:55:31.151807 17168 deprecation.py:323] From c:\\users\\zeesh\\anaconda3\\envs\\tensorflow_cpu\\lib\\site-packages\\tensorflow\\python\\ops\\nn_impl.py:180: add_dispatch_support.<locals>.wrapper (from tensorflow.python.ops.array_ops) is deprecated and will be removed in a future version.\n",
      "Instructions for updating:\n",
      "Use tf.where in 2.0, which has the same broadcast rule as np.where\n"
     ]
    }
   ],
   "source": [
    "# Compile the Model\n",
    "model.compile(optimizer='rmsprop',loss='binary_crossentropy',metrics=['accuracy'])"
   ]
  },
  {
   "cell_type": "code",
   "execution_count": 25,
   "metadata": {
    "colab": {
     "base_uri": "https://localhost:8080/",
     "height": 258
    },
    "colab_type": "code",
    "id": "UFU0Mgo2EZjn",
    "outputId": "0efec7b8-0566-45d6-90f1-a80a243055f2"
   },
   "outputs": [
    {
     "name": "stdout",
     "output_type": "stream",
     "text": [
      "_________________________________________________________________\n",
      "Layer (type)                 Output Shape              Param #   \n",
      "=================================================================\n",
      "dense_1 (Dense)              (None, 16)                160016    \n",
      "_________________________________________________________________\n",
      "dense_2 (Dense)              (None, 16)                272       \n",
      "_________________________________________________________________\n",
      "dense_3 (Dense)              (None, 1)                 17        \n",
      "=================================================================\n",
      "Total params: 160,305\n",
      "Trainable params: 160,305\n",
      "Non-trainable params: 0\n",
      "_________________________________________________________________\n"
     ]
    }
   ],
   "source": [
    "model.summary()"
   ]
  },
  {
   "cell_type": "markdown",
   "metadata": {
    "colab_type": "text",
    "id": "Gh9_Pos1JOtQ"
   },
   "source": [
    "### Training and Validation\n"
   ]
  },
  {
   "cell_type": "code",
   "execution_count": 26,
   "metadata": {
    "colab": {},
    "colab_type": "code",
    "id": "VCc38r17EZch"
   },
   "outputs": [],
   "source": [
    "x_val = X_train[:5000]\n",
    "x_train_new = X_train[5000:]\n",
    "\n",
    "y_val = Y_train[:5000]\n",
    "y_train_new = Y_train[5000:]"
   ]
  },
  {
   "cell_type": "code",
   "execution_count": 27,
   "metadata": {
    "colab": {
     "base_uri": "https://localhost:8080/",
     "height": 797
    },
    "colab_type": "code",
    "id": "i7FHiOZTKd1q",
    "outputId": "599fd4b5-0655-44c0-a87d-3c15917586c0"
   },
   "outputs": [
    {
     "name": "stderr",
     "output_type": "stream",
     "text": [
      "W0321 19:55:37.516017 17168 deprecation_wrapper.py:119] From c:\\users\\zeesh\\anaconda3\\envs\\tensorflow_cpu\\lib\\site-packages\\keras\\backend\\tensorflow_backend.py:986: The name tf.assign_add is deprecated. Please use tf.compat.v1.assign_add instead.\n",
      "\n"
     ]
    },
    {
     "name": "stdout",
     "output_type": "stream",
     "text": [
      "Train on 20000 samples, validate on 5000 samples\n",
      "Epoch 1/20\n",
      "20000/20000 [==============================] - 8s 376us/step - loss: 0.4726 - acc: 0.8063 - val_loss: 0.3667 - val_acc: 0.8578\n",
      "Epoch 2/20\n",
      "20000/20000 [==============================] - 3s 156us/step - loss: 0.2718 - acc: 0.9058 - val_loss: 0.2941 - val_acc: 0.8862\n",
      "Epoch 3/20\n",
      "20000/20000 [==============================] - 3s 146us/step - loss: 0.2024 - acc: 0.9308 - val_loss: 0.2696 - val_acc: 0.8914\n",
      "Epoch 4/20\n",
      "20000/20000 [==============================] - 3s 147us/step - loss: 0.1667 - acc: 0.9414 - val_loss: 0.2804 - val_acc: 0.8904\n",
      "Epoch 5/20\n",
      "20000/20000 [==============================] - 3s 138us/step - loss: 0.1406 - acc: 0.9517 - val_loss: 0.2835 - val_acc: 0.8900\n",
      "Epoch 6/20\n",
      "20000/20000 [==============================] - 3s 153us/step - loss: 0.1188 - acc: 0.9594 - val_loss: 0.3090 - val_acc: 0.8860\n",
      "Epoch 7/20\n",
      "20000/20000 [==============================] - 3s 149us/step - loss: 0.1058 - acc: 0.9651 - val_loss: 0.3276 - val_acc: 0.8832\n",
      "Epoch 8/20\n",
      "20000/20000 [==============================] - 3s 150us/step - loss: 0.0854 - acc: 0.9731 - val_loss: 0.4080 - val_acc: 0.8664\n",
      "Epoch 9/20\n",
      "20000/20000 [==============================] - 3s 156us/step - loss: 0.0772 - acc: 0.9753 - val_loss: 0.4488 - val_acc: 0.8630\n",
      "Epoch 10/20\n",
      "20000/20000 [==============================] - 3s 146us/step - loss: 0.0669 - acc: 0.9796 - val_loss: 0.4238 - val_acc: 0.8702\n",
      "Epoch 11/20\n",
      "20000/20000 [==============================] - 3s 148us/step - loss: 0.0569 - acc: 0.9837 - val_loss: 0.4230 - val_acc: 0.8734\n",
      "Epoch 12/20\n",
      "20000/20000 [==============================] - 3s 147us/step - loss: 0.0484 - acc: 0.9860 - val_loss: 0.5302 - val_acc: 0.8618\n",
      "Epoch 13/20\n",
      "20000/20000 [==============================] - 3s 148us/step - loss: 0.0423 - acc: 0.9879 - val_loss: 0.5394 - val_acc: 0.8634\n",
      "Epoch 14/20\n",
      "20000/20000 [==============================] - 3s 153us/step - loss: 0.0386 - acc: 0.9891 - val_loss: 0.5185 - val_acc: 0.8698\n",
      "Epoch 15/20\n",
      "20000/20000 [==============================] - 3s 152us/step - loss: 0.0284 - acc: 0.9930 - val_loss: 0.6117 - val_acc: 0.8600 1s - loss: 0.0206 - acc: 0. - ETA: 1s - lo\n",
      "Epoch 16/20\n",
      "20000/20000 [==============================] - 3s 155us/step - loss: 0.0267 - acc: 0.9936 - val_loss: 0.5832 - val_acc: 0.8662\n",
      "Epoch 17/20\n",
      "20000/20000 [==============================] - 3s 148us/step - loss: 0.0211 - acc: 0.9953 - val_loss: 0.6220 - val_acc: 0.8666\n",
      "Epoch 18/20\n",
      "20000/20000 [==============================] - 3s 147us/step - loss: 0.0166 - acc: 0.9971 - val_loss: 0.6649 - val_acc: 0.8656\n",
      "Epoch 19/20\n",
      "20000/20000 [==============================] - 3s 147us/step - loss: 0.0168 - acc: 0.9960 - val_loss: 0.6990 - val_acc: 0.8610\n",
      "Epoch 20/20\n",
      "20000/20000 [==============================] - 3s 149us/step - loss: 0.0119 - acc: 0.9974 - val_loss: 0.7257 - val_acc: 0.8636s: 0.0119 - acc: 0.9\n"
     ]
    }
   ],
   "source": [
    "hist = model.fit(x_train_new,y_train_new,epochs=20,batch_size=512,validation_data=(x_val,y_val))"
   ]
  },
  {
   "cell_type": "code",
   "execution_count": 0,
   "metadata": {
    "colab": {},
    "colab_type": "code",
    "id": "cS21h3k9LFHO"
   },
   "outputs": [],
   "source": []
  },
  {
   "cell_type": "markdown",
   "metadata": {
    "colab_type": "text",
    "id": "unbqi3nyLOLH"
   },
   "source": [
    "## Visualise our results"
   ]
  },
  {
   "cell_type": "code",
   "execution_count": 0,
   "metadata": {
    "colab": {},
    "colab_type": "code",
    "id": "u3cSoDszLQWd"
   },
   "outputs": [],
   "source": [
    "import matplotlib.pyplot as plt"
   ]
  },
  {
   "cell_type": "code",
   "execution_count": 0,
   "metadata": {
    "colab": {},
    "colab_type": "code",
    "id": "584GtywbLTJE"
   },
   "outputs": [],
   "source": [
    "h = hist.history"
   ]
  },
  {
   "cell_type": "code",
   "execution_count": 0,
   "metadata": {
    "colab": {
     "base_uri": "https://localhost:8080/",
     "height": 365
    },
    "colab_type": "code",
    "id": "IKVASxDBLVCL",
    "outputId": "9ca247eb-8550-45e2-a07c-7f4260d45100"
   },
   "outputs": [
    {
     "data": {
      "image/png": "[encoded data removed]",
      "text/plain": [
       "<Figure size 576x396 with 1 Axes>"
      ]
     },
     "metadata": {
      "tags": []
     },
     "output_type": "display_data"
    }
   ],
   "source": [
    "plt.plot(h['val_loss'],label=\"Validation Loss\")\n",
    "plt.plot(h['loss'],label=\"Training Loss\")\n",
    "plt.xlabel(\"Epochs\")\n",
    "plt.ylabel(\"Loss\")\n",
    "plt.legend()\n",
    "plt.show()"
   ]
  },
  {
   "cell_type": "code",
   "execution_count": 0,
   "metadata": {
    "colab": {
     "base_uri": "https://localhost:8080/",
     "height": 361
    },
    "colab_type": "code",
    "id": "m6uLJMTVLoP9",
    "outputId": "47028154-3a04-4f9e-96df-810892095a01"
   },
   "outputs": [
    {
     "data": {
      "image/png": "[encoded data removed]",
      "text/plain": [
       "<Figure size 576x396 with 1 Axes>"
      ]
     },
     "metadata": {
      "tags": []
     },
     "output_type": "display_data"
    }
   ],
   "source": [
    "plt.plot(h['val_acc'],label=\"Validation Acc\")\n",
    "plt.plot(h['acc'],label=\"Training Acc\")\n",
    "plt.xlabel(\"Epochs\")\n",
    "plt.ylabel(\"Accuracy\")\n",
    "plt.legend()\n",
    "plt.show()"
   ]
  },
  {
   "cell_type": "code",
   "execution_count": 0,
   "metadata": {
    "colab": {
     "base_uri": "https://localhost:8080/",
     "height": 54
    },
    "colab_type": "code",
    "id": "SnyKcMsiMq4w",
    "outputId": "084f2310-5090-42df-f638-205e6158fcd9"
   },
   "outputs": [
    {
     "name": "stdout",
     "output_type": "stream",
     "text": [
      "25000/25000 [==============================] - 2s 83us/step\n"
     ]
    },
    {
     "data": {
      "text/plain": [
       "0.8806"
      ]
     },
     "execution_count": 59,
     "metadata": {
      "tags": []
     },
     "output_type": "execute_result"
    }
   ],
   "source": [
    "model.evaluate(X_test,Y_test)[1]"
   ]
  },
  {
   "cell_type": "code",
   "execution_count": 0,
   "metadata": {
    "colab": {},
    "colab_type": "code",
    "id": "gWLfpSHQzDrD"
   },
   "outputs": [],
   "source": []
  },
  {
   "cell_type": "code",
   "execution_count": 0,
   "metadata": {
    "colab": {
     "base_uri": "https://localhost:8080/",
     "height": 54
    },
    "colab_type": "code",
    "id": "OZS8s7pwM2Dl",
    "outputId": "7f7188ab-ed32-41cd-9121-ed2280437f05"
   },
   "outputs": [
    {
     "name": "stdout",
     "output_type": "stream",
     "text": [
      "25000/25000 [==============================] - 2s 84us/step\n"
     ]
    },
    {
     "data": {
      "text/plain": [
       "0.9428"
      ]
     },
     "execution_count": 60,
     "metadata": {
      "tags": []
     },
     "output_type": "execute_result"
    }
   ],
   "source": [
    "model.evaluate(X_train,Y_train)[1]"
   ]
  },
  {
   "cell_type": "code",
   "execution_count": 0,
   "metadata": {
    "colab": {
     "base_uri": "https://localhost:8080/",
     "height": 146
    },
    "colab_type": "code",
    "id": "rbL0sMuuNCBh",
    "outputId": "7bcd41dd-25b0-4683-ae42-7797461dcb4e"
   },
   "outputs": [
    {
     "data": {
      "text/plain": [
       "array([[0.32389975],\n",
       "       [0.999739  ],\n",
       "       [0.67278445],\n",
       "       ...,\n",
       "       [0.16619593],\n",
       "       [0.15570958],\n",
       "       [0.6937666 ]], dtype=float32)"
      ]
     },
     "execution_count": 61,
     "metadata": {
      "tags": []
     },
     "output_type": "execute_result"
    }
   ],
   "source": [
    "model.predict(X_test)"
   ]
  },
  {
   "cell_type": "code",
   "execution_count": 0,
   "metadata": {
    "colab": {},
    "colab_type": "code",
    "id": "Lf4hY240NplB"
   },
   "outputs": [],
   "source": []
  }
 ],
 "metadata": {
  "accelerator": "TPU",
  "colab": {
   "name": "Neural Networks - Sentiment Analysis using Neural Network FINAL",
   "provenance": [],
   "version": "0.3.2"
  },
  "kernelspec": {
   "display_name": "Python 3",
   "language": "python",
   "name": "python3"
  },
  "language_info": {
   "codemirror_mode": {
    "name": "ipython",
    "version": 3
   },
   "file_extension": ".py",
   "mimetype": "text/x-python",
   "name": "python",
   "nbconvert_exporter": "python",
   "pygments_lexer": "ipython3",
   "version": "3.7.3"
  }
 },
 "nbformat": 4,
 "nbformat_minor": 1
}
